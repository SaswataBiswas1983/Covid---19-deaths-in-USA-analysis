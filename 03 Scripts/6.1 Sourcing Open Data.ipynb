{
 "cells": [
  {
   "cell_type": "markdown",
   "id": "42410fc4-a0dc-423b-b7db-48be08b6fbb4",
   "metadata": {},
   "source": [
    "# Finding and cleaning Data"
   ]
  },
  {
   "cell_type": "code",
   "execution_count": 2,
   "id": "f0279b8e-3ab4-4bb2-b1be-71171a73c207",
   "metadata": {},
   "outputs": [],
   "source": [
    "#import libraries\n",
    "import pandas as pd\n",
    "import numpy as np\n",
    "import os"
   ]
  },
  {
   "cell_type": "code",
   "execution_count": 12,
   "id": "ccc4638a-8242-4092-afe8-a5b7a6ca40d8",
   "metadata": {},
   "outputs": [],
   "source": [
    "# Creating a folder path\n",
    "path = r'C:\\Users\\Lenovo\\Desktop\\Career Foundry\\Achievement 6'"
   ]
  },
  {
   "cell_type": "code",
   "execution_count": 14,
   "id": "156743d7-5650-4700-90db-8516ceec1d15",
   "metadata": {},
   "outputs": [],
   "source": [
    "#Using the os.path.function\n",
    "df = pd.read_csv(os.path.join(path, '02 Data', 'Original Data', 'Covid.csv'), index_col = False)\n"
   ]
  },
  {
   "cell_type": "code",
   "execution_count": 16,
   "id": "5cb39d43-c4ff-4ca7-941e-201d89cdde9f",
   "metadata": {},
   "outputs": [
    {
     "data": {
      "text/html": [
       "<div>\n",
       "<style scoped>\n",
       "    .dataframe tbody tr th:only-of-type {\n",
       "        vertical-align: middle;\n",
       "    }\n",
       "\n",
       "    .dataframe tbody tr th {\n",
       "        vertical-align: top;\n",
       "    }\n",
       "\n",
       "    .dataframe thead th {\n",
       "        text-align: right;\n",
       "    }\n",
       "</style>\n",
       "<table border=\"1\" class=\"dataframe\">\n",
       "  <thead>\n",
       "    <tr style=\"text-align: right;\">\n",
       "      <th></th>\n",
       "      <th>Data As Of</th>\n",
       "      <th>Start Date</th>\n",
       "      <th>End Date</th>\n",
       "      <th>Group</th>\n",
       "      <th>Year</th>\n",
       "      <th>Month</th>\n",
       "      <th>State</th>\n",
       "      <th>Condition Group</th>\n",
       "      <th>Condition</th>\n",
       "      <th>ICD10_codes</th>\n",
       "      <th>Age Group</th>\n",
       "      <th>COVID-19 Deaths</th>\n",
       "      <th>Number of Mentions</th>\n",
       "      <th>Flag</th>\n",
       "    </tr>\n",
       "  </thead>\n",
       "  <tbody>\n",
       "    <tr>\n",
       "      <th>0</th>\n",
       "      <td>09/24/2023</td>\n",
       "      <td>01/01/2020</td>\n",
       "      <td>09/23/2023</td>\n",
       "      <td>By Total</td>\n",
       "      <td>NaN</td>\n",
       "      <td>NaN</td>\n",
       "      <td>United States</td>\n",
       "      <td>Respiratory diseases</td>\n",
       "      <td>Influenza and pneumonia</td>\n",
       "      <td>J09-J18</td>\n",
       "      <td>0-24</td>\n",
       "      <td>1569.0</td>\n",
       "      <td>1647.0</td>\n",
       "      <td>NaN</td>\n",
       "    </tr>\n",
       "    <tr>\n",
       "      <th>1</th>\n",
       "      <td>09/24/2023</td>\n",
       "      <td>01/01/2020</td>\n",
       "      <td>09/23/2023</td>\n",
       "      <td>By Total</td>\n",
       "      <td>NaN</td>\n",
       "      <td>NaN</td>\n",
       "      <td>United States</td>\n",
       "      <td>Respiratory diseases</td>\n",
       "      <td>Influenza and pneumonia</td>\n",
       "      <td>J09-J18</td>\n",
       "      <td>25-34</td>\n",
       "      <td>5804.0</td>\n",
       "      <td>6029.0</td>\n",
       "      <td>NaN</td>\n",
       "    </tr>\n",
       "    <tr>\n",
       "      <th>2</th>\n",
       "      <td>09/24/2023</td>\n",
       "      <td>01/01/2020</td>\n",
       "      <td>09/23/2023</td>\n",
       "      <td>By Total</td>\n",
       "      <td>NaN</td>\n",
       "      <td>NaN</td>\n",
       "      <td>United States</td>\n",
       "      <td>Respiratory diseases</td>\n",
       "      <td>Influenza and pneumonia</td>\n",
       "      <td>J09-J18</td>\n",
       "      <td>35-44</td>\n",
       "      <td>15080.0</td>\n",
       "      <td>15699.0</td>\n",
       "      <td>NaN</td>\n",
       "    </tr>\n",
       "    <tr>\n",
       "      <th>3</th>\n",
       "      <td>09/24/2023</td>\n",
       "      <td>01/01/2020</td>\n",
       "      <td>09/23/2023</td>\n",
       "      <td>By Total</td>\n",
       "      <td>NaN</td>\n",
       "      <td>NaN</td>\n",
       "      <td>United States</td>\n",
       "      <td>Respiratory diseases</td>\n",
       "      <td>Influenza and pneumonia</td>\n",
       "      <td>J09-J18</td>\n",
       "      <td>45-54</td>\n",
       "      <td>37414.0</td>\n",
       "      <td>38878.0</td>\n",
       "      <td>NaN</td>\n",
       "    </tr>\n",
       "    <tr>\n",
       "      <th>4</th>\n",
       "      <td>09/24/2023</td>\n",
       "      <td>01/01/2020</td>\n",
       "      <td>09/23/2023</td>\n",
       "      <td>By Total</td>\n",
       "      <td>NaN</td>\n",
       "      <td>NaN</td>\n",
       "      <td>United States</td>\n",
       "      <td>Respiratory diseases</td>\n",
       "      <td>Influenza and pneumonia</td>\n",
       "      <td>J09-J18</td>\n",
       "      <td>55-64</td>\n",
       "      <td>82668.0</td>\n",
       "      <td>85708.0</td>\n",
       "      <td>NaN</td>\n",
       "    </tr>\n",
       "    <tr>\n",
       "      <th>5</th>\n",
       "      <td>09/24/2023</td>\n",
       "      <td>01/01/2020</td>\n",
       "      <td>09/23/2023</td>\n",
       "      <td>By Total</td>\n",
       "      <td>NaN</td>\n",
       "      <td>NaN</td>\n",
       "      <td>United States</td>\n",
       "      <td>Respiratory diseases</td>\n",
       "      <td>Influenza and pneumonia</td>\n",
       "      <td>J09-J18</td>\n",
       "      <td>65-74</td>\n",
       "      <td>129005.0</td>\n",
       "      <td>133088.0</td>\n",
       "      <td>NaN</td>\n",
       "    </tr>\n",
       "    <tr>\n",
       "      <th>6</th>\n",
       "      <td>09/24/2023</td>\n",
       "      <td>01/01/2020</td>\n",
       "      <td>09/23/2023</td>\n",
       "      <td>By Total</td>\n",
       "      <td>NaN</td>\n",
       "      <td>NaN</td>\n",
       "      <td>United States</td>\n",
       "      <td>Respiratory diseases</td>\n",
       "      <td>Influenza and pneumonia</td>\n",
       "      <td>J09-J18</td>\n",
       "      <td>75-84</td>\n",
       "      <td>138503.0</td>\n",
       "      <td>141868.0</td>\n",
       "      <td>NaN</td>\n",
       "    </tr>\n",
       "    <tr>\n",
       "      <th>7</th>\n",
       "      <td>09/24/2023</td>\n",
       "      <td>01/01/2020</td>\n",
       "      <td>09/23/2023</td>\n",
       "      <td>By Total</td>\n",
       "      <td>NaN</td>\n",
       "      <td>NaN</td>\n",
       "      <td>United States</td>\n",
       "      <td>Respiratory diseases</td>\n",
       "      <td>Influenza and pneumonia</td>\n",
       "      <td>J09-J18</td>\n",
       "      <td>85+</td>\n",
       "      <td>121119.0</td>\n",
       "      <td>123018.0</td>\n",
       "      <td>NaN</td>\n",
       "    </tr>\n",
       "    <tr>\n",
       "      <th>8</th>\n",
       "      <td>09/24/2023</td>\n",
       "      <td>01/01/2020</td>\n",
       "      <td>09/23/2023</td>\n",
       "      <td>By Total</td>\n",
       "      <td>NaN</td>\n",
       "      <td>NaN</td>\n",
       "      <td>United States</td>\n",
       "      <td>Respiratory diseases</td>\n",
       "      <td>Influenza and pneumonia</td>\n",
       "      <td>J09-J18</td>\n",
       "      <td>Not stated</td>\n",
       "      <td>12.0</td>\n",
       "      <td>12.0</td>\n",
       "      <td>NaN</td>\n",
       "    </tr>\n",
       "    <tr>\n",
       "      <th>9</th>\n",
       "      <td>09/24/2023</td>\n",
       "      <td>01/01/2020</td>\n",
       "      <td>09/23/2023</td>\n",
       "      <td>By Total</td>\n",
       "      <td>NaN</td>\n",
       "      <td>NaN</td>\n",
       "      <td>United States</td>\n",
       "      <td>Respiratory diseases</td>\n",
       "      <td>Influenza and pneumonia</td>\n",
       "      <td>J09-J18</td>\n",
       "      <td>All Ages</td>\n",
       "      <td>531174.0</td>\n",
       "      <td>545947.0</td>\n",
       "      <td>NaN</td>\n",
       "    </tr>\n",
       "  </tbody>\n",
       "</table>\n",
       "</div>"
      ],
      "text/plain": [
       "   Data As Of  Start Date    End Date     Group  Year  Month          State  \\\n",
       "0  09/24/2023  01/01/2020  09/23/2023  By Total   NaN    NaN  United States   \n",
       "1  09/24/2023  01/01/2020  09/23/2023  By Total   NaN    NaN  United States   \n",
       "2  09/24/2023  01/01/2020  09/23/2023  By Total   NaN    NaN  United States   \n",
       "3  09/24/2023  01/01/2020  09/23/2023  By Total   NaN    NaN  United States   \n",
       "4  09/24/2023  01/01/2020  09/23/2023  By Total   NaN    NaN  United States   \n",
       "5  09/24/2023  01/01/2020  09/23/2023  By Total   NaN    NaN  United States   \n",
       "6  09/24/2023  01/01/2020  09/23/2023  By Total   NaN    NaN  United States   \n",
       "7  09/24/2023  01/01/2020  09/23/2023  By Total   NaN    NaN  United States   \n",
       "8  09/24/2023  01/01/2020  09/23/2023  By Total   NaN    NaN  United States   \n",
       "9  09/24/2023  01/01/2020  09/23/2023  By Total   NaN    NaN  United States   \n",
       "\n",
       "        Condition Group                Condition ICD10_codes   Age Group  \\\n",
       "0  Respiratory diseases  Influenza and pneumonia     J09-J18        0-24   \n",
       "1  Respiratory diseases  Influenza and pneumonia     J09-J18       25-34   \n",
       "2  Respiratory diseases  Influenza and pneumonia     J09-J18       35-44   \n",
       "3  Respiratory diseases  Influenza and pneumonia     J09-J18       45-54   \n",
       "4  Respiratory diseases  Influenza and pneumonia     J09-J18       55-64   \n",
       "5  Respiratory diseases  Influenza and pneumonia     J09-J18       65-74   \n",
       "6  Respiratory diseases  Influenza and pneumonia     J09-J18       75-84   \n",
       "7  Respiratory diseases  Influenza and pneumonia     J09-J18         85+   \n",
       "8  Respiratory diseases  Influenza and pneumonia     J09-J18  Not stated   \n",
       "9  Respiratory diseases  Influenza and pneumonia     J09-J18    All Ages   \n",
       "\n",
       "   COVID-19 Deaths  Number of Mentions Flag  \n",
       "0           1569.0              1647.0  NaN  \n",
       "1           5804.0              6029.0  NaN  \n",
       "2          15080.0             15699.0  NaN  \n",
       "3          37414.0             38878.0  NaN  \n",
       "4          82668.0             85708.0  NaN  \n",
       "5         129005.0            133088.0  NaN  \n",
       "6         138503.0            141868.0  NaN  \n",
       "7         121119.0            123018.0  NaN  \n",
       "8             12.0                12.0  NaN  \n",
       "9         531174.0            545947.0  NaN  "
      ]
     },
     "execution_count": 16,
     "metadata": {},
     "output_type": "execute_result"
    }
   ],
   "source": [
    "#Checking the data:\n",
    "df.head(10)"
   ]
  },
  {
   "cell_type": "code",
   "execution_count": 18,
   "id": "a86a378d-3b7f-40bc-abe3-6795297b1ebe",
   "metadata": {},
   "outputs": [
    {
     "data": {
      "text/plain": [
       "(621000, 14)"
      ]
     },
     "execution_count": 18,
     "metadata": {},
     "output_type": "execute_result"
    }
   ],
   "source": [
    "# Checking for total rows and columns\n",
    "df.shape"
   ]
  },
  {
   "cell_type": "code",
   "execution_count": 20,
   "id": "dd4c90a6-f671-4532-8160-c2aa3f99b0f6",
   "metadata": {},
   "outputs": [],
   "source": [
    "# No one will understand scientific numbers. Changing the display setting:\n",
    "pd.set_option('display.float_format', lambda x: '%.2f' % x)"
   ]
  },
  {
   "cell_type": "code",
   "execution_count": 22,
   "id": "a3e5edef-b88e-445b-a98f-f09a5b2e486c",
   "metadata": {},
   "outputs": [
    {
     "data": {
      "text/html": [
       "<div>\n",
       "<style scoped>\n",
       "    .dataframe tbody tr th:only-of-type {\n",
       "        vertical-align: middle;\n",
       "    }\n",
       "\n",
       "    .dataframe tbody tr th {\n",
       "        vertical-align: top;\n",
       "    }\n",
       "\n",
       "    .dataframe thead th {\n",
       "        text-align: right;\n",
       "    }\n",
       "</style>\n",
       "<table border=\"1\" class=\"dataframe\">\n",
       "  <thead>\n",
       "    <tr style=\"text-align: right;\">\n",
       "      <th></th>\n",
       "      <th>Year</th>\n",
       "      <th>Month</th>\n",
       "      <th>COVID-19 Deaths</th>\n",
       "      <th>Number of Mentions</th>\n",
       "    </tr>\n",
       "  </thead>\n",
       "  <tbody>\n",
       "    <tr>\n",
       "      <th>count</th>\n",
       "      <td>608580.00</td>\n",
       "      <td>558900.00</td>\n",
       "      <td>437551.00</td>\n",
       "      <td>443423.00</td>\n",
       "    </tr>\n",
       "    <tr>\n",
       "      <th>mean</th>\n",
       "      <td>2021.41</td>\n",
       "      <td>6.20</td>\n",
       "      <td>120.12</td>\n",
       "      <td>129.33</td>\n",
       "    </tr>\n",
       "    <tr>\n",
       "      <th>std</th>\n",
       "      <td>1.09</td>\n",
       "      <td>3.35</td>\n",
       "      <td>2980.20</td>\n",
       "      <td>3203.94</td>\n",
       "    </tr>\n",
       "    <tr>\n",
       "      <th>min</th>\n",
       "      <td>2020.00</td>\n",
       "      <td>1.00</td>\n",
       "      <td>0.00</td>\n",
       "      <td>0.00</td>\n",
       "    </tr>\n",
       "    <tr>\n",
       "      <th>25%</th>\n",
       "      <td>2020.00</td>\n",
       "      <td>3.00</td>\n",
       "      <td>0.00</td>\n",
       "      <td>0.00</td>\n",
       "    </tr>\n",
       "    <tr>\n",
       "      <th>50%</th>\n",
       "      <td>2021.00</td>\n",
       "      <td>6.00</td>\n",
       "      <td>0.00</td>\n",
       "      <td>0.00</td>\n",
       "    </tr>\n",
       "    <tr>\n",
       "      <th>75%</th>\n",
       "      <td>2022.00</td>\n",
       "      <td>9.00</td>\n",
       "      <td>18.00</td>\n",
       "      <td>19.00</td>\n",
       "    </tr>\n",
       "    <tr>\n",
       "      <th>max</th>\n",
       "      <td>2023.00</td>\n",
       "      <td>12.00</td>\n",
       "      <td>1146242.00</td>\n",
       "      <td>1146242.00</td>\n",
       "    </tr>\n",
       "  </tbody>\n",
       "</table>\n",
       "</div>"
      ],
      "text/plain": [
       "           Year     Month  COVID-19 Deaths  Number of Mentions\n",
       "count 608580.00 558900.00        437551.00           443423.00\n",
       "mean    2021.41      6.20           120.12              129.33\n",
       "std        1.09      3.35          2980.20             3203.94\n",
       "min     2020.00      1.00             0.00                0.00\n",
       "25%     2020.00      3.00             0.00                0.00\n",
       "50%     2021.00      6.00             0.00                0.00\n",
       "75%     2022.00      9.00            18.00               19.00\n",
       "max     2023.00     12.00       1146242.00          1146242.00"
      ]
     },
     "execution_count": 22,
     "metadata": {},
     "output_type": "execute_result"
    }
   ],
   "source": [
    "# Check the basic statistics of the dataset\n",
    "df.describe()"
   ]
  },
  {
   "cell_type": "markdown",
   "id": "cfeaf3be-f8d0-4d8c-b8a9-ef9536b4f0ea",
   "metadata": {},
   "source": [
    "## Cleaning the data"
   ]
  },
  {
   "cell_type": "code",
   "execution_count": 25,
   "id": "78408fd8-eaac-405d-b5da-54175c0344bd",
   "metadata": {},
   "outputs": [
    {
     "data": {
      "text/plain": [
       "Data As Of                 0\n",
       "Start Date                 0\n",
       "End Date                   0\n",
       "Group                      0\n",
       "Year                   12420\n",
       "Month                  62100\n",
       "State                      0\n",
       "Condition Group            0\n",
       "Condition                  0\n",
       "ICD10_codes                0\n",
       "Age Group                  0\n",
       "COVID-19 Deaths       183449\n",
       "Number of Mentions    177577\n",
       "Flag                  437551\n",
       "dtype: int64"
      ]
     },
     "execution_count": 25,
     "metadata": {},
     "output_type": "execute_result"
    }
   ],
   "source": [
    "#Checking for missing values:\n",
    "df.isnull().sum()"
   ]
  },
  {
   "cell_type": "code",
   "execution_count": 27,
   "id": "055407fb-0b32-4c3a-b717-dc157ada0760",
   "metadata": {},
   "outputs": [
    {
     "data": {
      "text/plain": [
       "Data As Of             object\n",
       "Start Date             object\n",
       "End Date               object\n",
       "Group                  object\n",
       "Year                  float64\n",
       "Month                 float64\n",
       "State                  object\n",
       "Condition Group        object\n",
       "Condition              object\n",
       "ICD10_codes            object\n",
       "Age Group              object\n",
       "COVID-19 Deaths       float64\n",
       "Number of Mentions    float64\n",
       "Flag                   object\n",
       "dtype: object"
      ]
     },
     "execution_count": 27,
     "metadata": {},
     "output_type": "execute_result"
    }
   ],
   "source": [
    "# Check the data-types of the dataframe\n",
    "df.dtypes"
   ]
  },
  {
   "cell_type": "markdown",
   "id": "8f0f92d3-f415-4676-abe0-d2985c0b538b",
   "metadata": {},
   "source": [
    "### Checking Each Column Separately to understand the reason for missing values"
   ]
  },
  {
   "cell_type": "code",
   "execution_count": 30,
   "id": "fb7075b3-ace0-4552-88a4-7f58e563f28c",
   "metadata": {},
   "outputs": [
    {
     "data": {
      "text/plain": [
       "Year\n",
       "2020.00    161460\n",
       "2021.00    161460\n",
       "2022.00    161460\n",
       "2023.00    124200\n",
       "NaN         12420\n",
       "Name: count, dtype: int64"
      ]
     },
     "execution_count": 30,
     "metadata": {},
     "output_type": "execute_result"
    }
   ],
   "source": [
    "#YEAR Frequency:\n",
    "df['Year'].value_counts(dropna = False)"
   ]
  },
  {
   "cell_type": "code",
   "execution_count": 32,
   "id": "ceb73354-4a01-4ba9-accd-6de515e167ee",
   "metadata": {},
   "outputs": [
    {
     "data": {
      "text/plain": [
       "Month\n",
       "NaN      62100\n",
       "1.00     49680\n",
       "2.00     49680\n",
       "3.00     49680\n",
       "4.00     49680\n",
       "5.00     49680\n",
       "6.00     49680\n",
       "7.00     49680\n",
       "8.00     49680\n",
       "9.00     49680\n",
       "10.00    37260\n",
       "11.00    37260\n",
       "12.00    37260\n",
       "Name: count, dtype: int64"
      ]
     },
     "execution_count": 32,
     "metadata": {},
     "output_type": "execute_result"
    }
   ],
   "source": [
    "#Month Frequency:\n",
    "df['Month'].value_counts(dropna = False)"
   ]
  },
  {
   "cell_type": "code",
   "execution_count": 34,
   "id": "d9549b27-190b-48ea-862b-589eeb1f02d7",
   "metadata": {},
   "outputs": [
    {
     "data": {
      "text/plain": [
       "COVID-19 Deaths\n",
       "0.00        288824\n",
       "NaN         183449\n",
       "10.00         6438\n",
       "11.00         5731\n",
       "12.00         5112\n",
       "             ...  \n",
       "9837.00          1\n",
       "15731.00         1\n",
       "12011.00         1\n",
       "11086.00         1\n",
       "6485.00          1\n",
       "Name: count, Length: 4668, dtype: int64"
      ]
     },
     "execution_count": 34,
     "metadata": {},
     "output_type": "execute_result"
    }
   ],
   "source": [
    "#COVID-19 Deaths Frequency\n",
    "df['COVID-19 Deaths'].value_counts(dropna = False)"
   ]
  },
  {
   "cell_type": "code",
   "execution_count": 36,
   "id": "b782176f-c897-4ac5-8a5f-6b2aad1fa87d",
   "metadata": {},
   "outputs": [
    {
     "data": {
      "text/plain": [
       "Number of Mentions\n",
       "0.00        288824\n",
       "NaN         177577\n",
       "10.00         6517\n",
       "11.00         5904\n",
       "12.00         5198\n",
       "             ...  \n",
       "25785.00         1\n",
       "12047.00         1\n",
       "3652.00          1\n",
       "42749.00         1\n",
       "8794.00          1\n",
       "Name: count, Length: 4860, dtype: int64"
      ]
     },
     "execution_count": 36,
     "metadata": {},
     "output_type": "execute_result"
    }
   ],
   "source": [
    "# Number of mentions frequency:\n",
    "df['Number of Mentions'].value_counts(dropna = False)"
   ]
  },
  {
   "cell_type": "code",
   "execution_count": 38,
   "id": "176e538b-0b32-4972-8642-d4dabb9b8853",
   "metadata": {},
   "outputs": [
    {
     "data": {
      "text/plain": [
       "Flag\n",
       "NaN                                                                                                                           437551\n",
       "One or more data cells have counts between 1-9 and have been suppressed in accordance with NCHS confidentiality standards.    183449\n",
       "Name: count, dtype: int64"
      ]
     },
     "execution_count": 38,
     "metadata": {},
     "output_type": "execute_result"
    }
   ],
   "source": [
    "# Flag frequency:\n",
    "df['Flag'].value_counts(dropna = False)"
   ]
  },
  {
   "cell_type": "markdown",
   "id": "eadc9d1a-c7fb-4aa6-8737-0aa28bb24ebe",
   "metadata": {},
   "source": [
    "### Interesting insights:\r\n",
    "1.\tThe 0 in Number of mentions and in Number of deaths is the same: 288824\r\n",
    "2.\tThe missing Values in Covid – 19 deaths is same as Suppressed data: 183449\r\n"
   ]
  },
  {
   "cell_type": "markdown",
   "id": "ddaed161-76d5-400e-a0ce-f5a95d1067ca",
   "metadata": {},
   "source": [
    "### Checking some rows to understand better:"
   ]
  },
  {
   "cell_type": "code",
   "execution_count": 48,
   "id": "dd8d42e4-9c1c-4c0c-a126-84cd0e329b5b",
   "metadata": {},
   "outputs": [
    {
     "name": "stdout",
     "output_type": "stream",
     "text": [
      "     Data As Of  Start Date    End Date     Group  Year  Month    State  \\\n",
      "241  09/24/2023  01/01/2020  09/23/2023  By Total   NaN    NaN  Alabama   \n",
      "250  09/24/2023  01/01/2020  09/23/2023  By Total   NaN    NaN  Alabama   \n",
      "270  09/24/2023  01/01/2020  09/23/2023  By Total   NaN    NaN  Alabama   \n",
      "280  09/24/2023  01/01/2020  09/23/2023  By Total   NaN    NaN  Alabama   \n",
      "301  09/24/2023  01/01/2020  09/23/2023  By Total   NaN    NaN  Alabama   \n",
      "\n",
      "          Condition Group                                 Condition  \\\n",
      "241  Respiratory diseases        Chronic lower respiratory diseases   \n",
      "250  Respiratory diseases       Adult respiratory distress syndrome   \n",
      "270  Respiratory diseases                        Respiratory arrest   \n",
      "280  Respiratory diseases  Other diseases of the respiratory system   \n",
      "301  Circulatory diseases                    Ischemic heart disease   \n",
      "\n",
      "                                           ICD10_codes Age Group  \\\n",
      "241                                            J40-J47     25-34   \n",
      "250                                                J80      0-24   \n",
      "270                                              R09.2      0-24   \n",
      "280  J00-J06, J20-J39, J60-J70, J81-J86, J90-J95, J...      0-24   \n",
      "301                                            I20-I25     25-34   \n",
      "\n",
      "     COVID-19 Deaths  Number of Mentions  \\\n",
      "241              NaN                 NaN   \n",
      "250              NaN                 NaN   \n",
      "270              NaN                 NaN   \n",
      "280              NaN                 NaN   \n",
      "301              NaN                 NaN   \n",
      "\n",
      "                                                  Flag  \n",
      "241  One or more data cells have counts between 1-9...  \n",
      "250  One or more data cells have counts between 1-9...  \n",
      "270  One or more data cells have counts between 1-9...  \n",
      "280  One or more data cells have counts between 1-9...  \n",
      "301  One or more data cells have counts between 1-9...  \n"
     ]
    }
   ],
   "source": [
    "# Find rows where \"Covid-19 Deaths\" column has missing values\n",
    "missing_values_df = df[df['COVID-19 Deaths'].isna()]\n",
    "\n",
    "# Display the first 5 rows with missing values in \"Covid-19 Deaths\"\n",
    "print(missing_values_df.head(5))"
   ]
  },
  {
   "cell_type": "markdown",
   "id": "d38d6cd4-102a-4a76-bb2d-87f6c607a187",
   "metadata": {},
   "source": [
    "### Checking other columns for more insight"
   ]
  },
  {
   "cell_type": "code",
   "execution_count": 51,
   "id": "4603c74f-5ecb-4bc2-99c2-3f1cffc58ce7",
   "metadata": {},
   "outputs": [
    {
     "data": {
      "text/plain": [
       "State\n",
       "United States           11500\n",
       "Pennsylvania            11500\n",
       "Nevada                  11500\n",
       "New Hampshire           11500\n",
       "New Jersey              11500\n",
       "New Mexico              11500\n",
       "New York                11500\n",
       "New York City           11500\n",
       "North Carolina          11500\n",
       "North Dakota            11500\n",
       "Ohio                    11500\n",
       "Oklahoma                11500\n",
       "Oregon                  11500\n",
       "Rhode Island            11500\n",
       "Alabama                 11500\n",
       "South Carolina          11500\n",
       "South Dakota            11500\n",
       "Tennessee               11500\n",
       "Texas                   11500\n",
       "Utah                    11500\n",
       "Vermont                 11500\n",
       "Virginia                11500\n",
       "Washington              11500\n",
       "West Virginia           11500\n",
       "Wisconsin               11500\n",
       "Wyoming                 11500\n",
       "Nebraska                11500\n",
       "Montana                 11500\n",
       "Missouri                11500\n",
       "Mississippi             11500\n",
       "Alaska                  11500\n",
       "Arizona                 11500\n",
       "Arkansas                11500\n",
       "California              11500\n",
       "Colorado                11500\n",
       "Connecticut             11500\n",
       "Delaware                11500\n",
       "District of Columbia    11500\n",
       "Florida                 11500\n",
       "Georgia                 11500\n",
       "Hawaii                  11500\n",
       "Idaho                   11500\n",
       "Illinois                11500\n",
       "Indiana                 11500\n",
       "Iowa                    11500\n",
       "Kansas                  11500\n",
       "Kentucky                11500\n",
       "Louisiana               11500\n",
       "Maine                   11500\n",
       "Maryland                11500\n",
       "Massachusetts           11500\n",
       "Michigan                11500\n",
       "Minnesota               11500\n",
       "Puerto Rico             11500\n",
       "Name: count, dtype: int64"
      ]
     },
     "execution_count": 51,
     "metadata": {},
     "output_type": "execute_result"
    }
   ],
   "source": [
    "# State frequency:\n",
    "df['State'].value_counts(dropna = False)"
   ]
  },
  {
   "cell_type": "code",
   "execution_count": 53,
   "id": "8b447868-a4d8-4802-847b-11baab3e1c93",
   "metadata": {},
   "outputs": [
    {
     "data": {
      "text/plain": [
       "Condition Group\n",
       "Circulatory diseases                                                         189000\n",
       "Respiratory diseases                                                         162000\n",
       "Sepsis                                                                        27000\n",
       "Malignant neoplasms                                                           27000\n",
       "Diabetes                                                                      27000\n",
       "Obesity                                                                       27000\n",
       "Alzheimer disease                                                             27000\n",
       "Vascular and unspecified dementia                                             27000\n",
       "Renal failure                                                                 27000\n",
       "Intentional and unintentional injury, poisoning, and other adverse events     27000\n",
       "All other conditions and causes (residual)                                    27000\n",
       "COVID-19                                                                      27000\n",
       "Name: count, dtype: int64"
      ]
     },
     "execution_count": 53,
     "metadata": {},
     "output_type": "execute_result"
    }
   ],
   "source": [
    "# Condition Group frequency:\n",
    "df['Condition Group'].value_counts(dropna = False)"
   ]
  },
  {
   "cell_type": "code",
   "execution_count": 55,
   "id": "8273dc7f-5736-47f6-9a0f-91a87023f57a",
   "metadata": {},
   "outputs": [
    {
     "data": {
      "text/plain": [
       "Group\n",
       "By Month    558900\n",
       "By Year      49680\n",
       "By Total     12420\n",
       "Name: count, dtype: int64"
      ]
     },
     "execution_count": 55,
     "metadata": {},
     "output_type": "execute_result"
    }
   ],
   "source": [
    "#Group Frequency\"\n",
    "df['Group'].value_counts(dropna = False)"
   ]
  },
  {
   "cell_type": "code",
   "execution_count": 61,
   "id": "6c27f85f-3a96-4f8f-9220-f7e389b376fc",
   "metadata": {},
   "outputs": [],
   "source": [
    "#Dropping Group Column as it does not provide any valuable input:\n",
    "df_dropped = df.drop('Group', axis=1)  # axis=1 indicates we are dropping a column"
   ]
  },
  {
   "cell_type": "code",
   "execution_count": 63,
   "id": "d9234fa2-21e5-4754-9796-011348cac955",
   "metadata": {},
   "outputs": [
    {
     "data": {
      "text/plain": [
       "Data As Of             object\n",
       "Start Date             object\n",
       "End Date               object\n",
       "Year                  float64\n",
       "Month                 float64\n",
       "State                  object\n",
       "Condition Group        object\n",
       "Condition              object\n",
       "ICD10_codes            object\n",
       "Age Group              object\n",
       "COVID-19 Deaths       float64\n",
       "Number of Mentions    float64\n",
       "Flag                   object\n",
       "dtype: object"
      ]
     },
     "execution_count": 63,
     "metadata": {},
     "output_type": "execute_result"
    }
   ],
   "source": [
    "#Check for New DF:\n",
    "df_dropped.dtypes"
   ]
  },
  {
   "cell_type": "code",
   "execution_count": 65,
   "id": "93c523a0-e4bd-4369-9016-a365d9ad9b0c",
   "metadata": {},
   "outputs": [],
   "source": [
    "# Drop rows where the \"State\" column is \"United States\" or \"Puerto Rico\"\n",
    "df_filtered = df[~df['State'].isin(['United States', 'Puerto Rico'])]"
   ]
  },
  {
   "cell_type": "markdown",
   "id": "2a92ce17-141f-4d93-ab08-a7c105e91658",
   "metadata": {},
   "source": [
    "### Imputing missing values in Death and No. of Mentions Column between 0 and 9"
   ]
  },
  {
   "cell_type": "code",
   "execution_count": 68,
   "id": "36913c61-95ad-4e6d-b81d-866475345cf2",
   "metadata": {},
   "outputs": [],
   "source": [
    "# Generate random integers between 0 and 9 to fill missing values\n",
    "random_numbers = np.random.randint(0, 10, df_filtered['COVID-19 Deaths'].isna().sum())"
   ]
  },
  {
   "cell_type": "code",
   "execution_count": 70,
   "id": "a9ee5a4e-b768-4fba-996a-515767e50d84",
   "metadata": {},
   "outputs": [],
   "source": [
    "# Impute missing values in \"COVID-19 Deaths\" column with random numbers between 0 and 9\n",
    "df_filtered.loc[df_filtered['COVID-19 Deaths'].isna(), 'COVID-19 Deaths'] = random_numbers"
   ]
  },
  {
   "cell_type": "code",
   "execution_count": 76,
   "id": "b49c53b6-48e2-459b-9c72-e7829f9ff82a",
   "metadata": {},
   "outputs": [],
   "source": [
    "# Generate random integers between 0 and 9 to fill missing values\n",
    "random_numbers2 = np.random.randint(0, 10, df_filtered['Number of Mentions'].isna().sum())"
   ]
  },
  {
   "cell_type": "code",
   "execution_count": 78,
   "id": "27f18e52-500e-43d0-ac54-fc8bdbd66c7b",
   "metadata": {},
   "outputs": [],
   "source": [
    "# Impute missing values in \"Number of mentions\" column with random numbers between 0 and 9\n",
    "df_filtered.loc[df_filtered['Number of Mentions'].isna(), 'Number of Mentions'] = random_numbers2"
   ]
  },
  {
   "cell_type": "code",
   "execution_count": 82,
   "id": "ca5278c0-4d50-47ca-a9e2-3f8a5d2a0554",
   "metadata": {},
   "outputs": [
    {
     "data": {
      "text/plain": [
       "Age Group\n",
       "0-24          59800\n",
       "25-34         59800\n",
       "35-44         59800\n",
       "45-54         59800\n",
       "55-64         59800\n",
       "65-74         59800\n",
       "75-84         59800\n",
       "85+           59800\n",
       "Not stated    59800\n",
       "All Ages      59800\n",
       "Name: count, dtype: int64"
      ]
     },
     "execution_count": 82,
     "metadata": {},
     "output_type": "execute_result"
    }
   ],
   "source": [
    "#Age group\n",
    "df_filtered['Age Group'].value_counts(dropna = False)"
   ]
  },
  {
   "cell_type": "code",
   "execution_count": 86,
   "id": "571b0a58-6647-4de0-b56e-b35053fc0736",
   "metadata": {},
   "outputs": [],
   "source": [
    "#Removing Rows in \"Age Group\" Column Not not stated and All Ages as they will not be valuable\n",
    "df_cleaned = df_filtered[df_filtered['Age Group'] != 'All Ages']\n"
   ]
  },
  {
   "cell_type": "code",
   "execution_count": 88,
   "id": "828fc62d-fad8-4b22-8d33-ca5cdc063ed5",
   "metadata": {},
   "outputs": [],
   "source": [
    "df_cleaned_covid = df_cleaned[df_cleaned['Age Group'] != 'Not Stated']"
   ]
  },
  {
   "cell_type": "code",
   "execution_count": 90,
   "id": "f1d38511-945d-4b8d-994f-c0613484510a",
   "metadata": {},
   "outputs": [
    {
     "data": {
      "text/plain": [
       "Data As Of                 0\n",
       "Start Date                 0\n",
       "End Date                   0\n",
       "Group                      0\n",
       "Year                   10764\n",
       "Month                  53820\n",
       "State                      0\n",
       "Condition Group            0\n",
       "Condition                  0\n",
       "ICD10_codes                0\n",
       "Age Group                  0\n",
       "COVID-19 Deaths            0\n",
       "Number of Mentions         0\n",
       "Flag                  374669\n",
       "dtype: int64"
      ]
     },
     "execution_count": 90,
     "metadata": {},
     "output_type": "execute_result"
    }
   ],
   "source": [
    "#Checking for missing values:\n",
    "df_cleaned_covid.isnull().sum()"
   ]
  },
  {
   "cell_type": "code",
   "execution_count": 92,
   "id": "9dc4d7fd-aa2c-4027-bb0e-2b90da9a51a7",
   "metadata": {},
   "outputs": [],
   "source": [
    "#Removing rows with missing values in Year and month Column:\n",
    "df_cleaned = df_cleaned_covid.dropna(subset=['Year', 'Month'])"
   ]
  },
  {
   "cell_type": "code",
   "execution_count": 94,
   "id": "1ba6f40c-a30f-4a27-9296-f99e8f75a944",
   "metadata": {},
   "outputs": [
    {
     "data": {
      "text/plain": [
       "Data As Of             object\n",
       "Start Date             object\n",
       "End Date               object\n",
       "Group                  object\n",
       "Year                  float64\n",
       "Month                 float64\n",
       "State                  object\n",
       "Condition Group        object\n",
       "Condition              object\n",
       "ICD10_codes            object\n",
       "Age Group              object\n",
       "COVID-19 Deaths       float64\n",
       "Number of Mentions    float64\n",
       "Flag                   object\n",
       "dtype: object"
      ]
     },
     "execution_count": 94,
     "metadata": {},
     "output_type": "execute_result"
    }
   ],
   "source": [
    "df_cleaned.dtypes"
   ]
  },
  {
   "cell_type": "markdown",
   "id": "cd8a7b92-872f-4ff4-acc9-efbff647c23c",
   "metadata": {},
   "source": [
    "### Checking for mixed data types:"
   ]
  },
  {
   "cell_type": "code",
   "execution_count": 97,
   "id": "eaa403ad-3b0f-4a2a-a5ca-3bcbd4f56ab0",
   "metadata": {},
   "outputs": [
    {
     "name": "stdout",
     "output_type": "stream",
     "text": [
      "No mixed-type data in column: {col}\n",
      "No mixed-type data in column: {col}\n",
      "No mixed-type data in column: {col}\n",
      "No mixed-type data in column: {col}\n",
      "No mixed-type data in column: {col}\n",
      "No mixed-type data in column: {col}\n",
      "No mixed-type data in column: {col}\n",
      "No mixed-type data in column: {col}\n",
      "No mixed-type data in column: {col}\n",
      "No mixed-type data in column: {col}\n",
      "No mixed-type data in column: {col}\n",
      "No mixed-type data in column: {col}\n",
      "No mixed-type data in column: {col}\n",
      "Mixed-type data found in column: {col}\n"
     ]
    }
   ],
   "source": [
    "for col in df_cleaned.columns.tolist():\n",
    "    weird = (df_cleaned[[col]].map(type) != df_cleaned[[col]].iloc[0].apply(type)).any(axis = 1)\n",
    "    if len (df_cleaned[weird]) > 0:\n",
    "        print (\"Mixed-type data found in column: {col}\")\n",
    "    else: \n",
    "        print(\"No mixed-type data in column: {col}\")"
   ]
  },
  {
   "cell_type": "code",
   "execution_count": 101,
   "id": "107a3e8c-976e-40d7-aa68-2225063d4ac4",
   "metadata": {},
   "outputs": [],
   "source": [
    "#Changing the data types \n",
    "df_cleaned.loc[:, 'Data As Of'] = pd.to_datetime(df_cleaned['Data As Of'])\n",
    "df_cleaned.loc[:, 'Start Date'] = pd.to_datetime(df_cleaned['Start Date'])\n",
    "df_cleaned.loc[:, 'End Date'] = pd.to_datetime(df_cleaned['End Date'])"
   ]
  },
  {
   "cell_type": "code",
   "execution_count": 109,
   "id": "31f14282-e93d-4ec6-ac6a-2b3e39026fe6",
   "metadata": {},
   "outputs": [],
   "source": [
    "## Convert categorical columns to category type\n",
    "categorical_columns = ['State', 'Condition Group', 'Condition', 'ICD10_codes', 'Age Group', 'Flag']\n",
    "for column in categorical_columns:\n",
    "    df_cleaned.loc[:, column] = df_cleaned[column].astype('category')"
   ]
  },
  {
   "cell_type": "markdown",
   "id": "f337a933-11ec-480a-9757-d22ae68cc2f7",
   "metadata": {},
   "source": [
    "### Used the loc function to avoid copyright warning"
   ]
  },
  {
   "cell_type": "code",
   "execution_count": 112,
   "id": "e004ccaa-8226-47ae-b96c-b32ab4fa3a0c",
   "metadata": {},
   "outputs": [
    {
     "data": {
      "text/plain": [
       "Data As Of            datetime64[ns]\n",
       "Start Date            datetime64[ns]\n",
       "End Date              datetime64[ns]\n",
       "Group                         object\n",
       "Year                         float64\n",
       "Month                        float64\n",
       "State                       category\n",
       "Condition Group             category\n",
       "Condition                   category\n",
       "ICD10_codes                 category\n",
       "Age Group                   category\n",
       "COVID-19 Deaths              float64\n",
       "Number of Mentions           float64\n",
       "Flag                        category\n",
       "dtype: object"
      ]
     },
     "execution_count": 112,
     "metadata": {},
     "output_type": "execute_result"
    }
   ],
   "source": [
    "df_cleaned.dtypes"
   ]
  },
  {
   "cell_type": "code",
   "execution_count": 115,
   "id": "a30a5c41-a3a0-4cf0-b8ea-4d233a18707c",
   "metadata": {},
   "outputs": [],
   "source": [
    "#Dropping Group Column as it does not provide any valuable input:\n",
    "df_cleaned = df_cleaned.drop('Group', axis=1)  # axis=1 indicates we are dropping a column"
   ]
  },
  {
   "cell_type": "code",
   "execution_count": 117,
   "id": "83b4b054-c7e4-4de6-9dc5-d18c2f61bd98",
   "metadata": {},
   "outputs": [
    {
     "data": {
      "text/plain": [
       "Data As Of                 6\n",
       "Start Date                 6\n",
       "End Date                   6\n",
       "Year                       6\n",
       "Month                      6\n",
       "State                      6\n",
       "Condition Group            6\n",
       "Condition                  6\n",
       "ICD10_codes                6\n",
       "Age Group                  6\n",
       "COVID-19 Deaths            6\n",
       "Number of Mentions         6\n",
       "Flag                  333472\n",
       "dtype: int64"
      ]
     },
     "execution_count": 117,
     "metadata": {},
     "output_type": "execute_result"
    }
   ],
   "source": [
    "#Check again for missing values:\n",
    "df_cleaned.isnull().sum()"
   ]
  },
  {
   "cell_type": "code",
   "execution_count": 119,
   "id": "1a779966-d50a-4345-a6bf-1688d024b84b",
   "metadata": {},
   "outputs": [],
   "source": [
    "df_cleaned = df_cleaned.dropna(subset=['Data As Of', 'Start Date'])"
   ]
  },
  {
   "cell_type": "code",
   "execution_count": 121,
   "id": "a622ad18-9536-4ffa-910b-013f60191f3b",
   "metadata": {},
   "outputs": [
    {
     "data": {
      "text/plain": [
       "Data As Of                 0\n",
       "Start Date                 0\n",
       "End Date                   0\n",
       "Year                       0\n",
       "Month                      0\n",
       "State                      0\n",
       "Condition Group            0\n",
       "Condition                  0\n",
       "ICD10_codes                0\n",
       "Age Group                  0\n",
       "COVID-19 Deaths            0\n",
       "Number of Mentions         0\n",
       "Flag                  333466\n",
       "dtype: int64"
      ]
     },
     "execution_count": 121,
     "metadata": {},
     "output_type": "execute_result"
    }
   ],
   "source": [
    "#Check again for missing values:\n",
    "df_cleaned.isnull().sum()"
   ]
  },
  {
   "cell_type": "code",
   "execution_count": 123,
   "id": "5a0d2748-8f96-4baa-a87b-39907bddafa9",
   "metadata": {},
   "outputs": [
    {
     "data": {
      "text/html": [
       "<div>\n",
       "<style scoped>\n",
       "    .dataframe tbody tr th:only-of-type {\n",
       "        vertical-align: middle;\n",
       "    }\n",
       "\n",
       "    .dataframe tbody tr th {\n",
       "        vertical-align: top;\n",
       "    }\n",
       "\n",
       "    .dataframe thead th {\n",
       "        text-align: right;\n",
       "    }\n",
       "</style>\n",
       "<table border=\"1\" class=\"dataframe\">\n",
       "  <thead>\n",
       "    <tr style=\"text-align: right;\">\n",
       "      <th></th>\n",
       "      <th>Data As Of</th>\n",
       "      <th>Start Date</th>\n",
       "      <th>End Date</th>\n",
       "      <th>Year</th>\n",
       "      <th>Month</th>\n",
       "      <th>COVID-19 Deaths</th>\n",
       "      <th>Number of Mentions</th>\n",
       "    </tr>\n",
       "  </thead>\n",
       "  <tbody>\n",
       "    <tr>\n",
       "      <th>count</th>\n",
       "      <td>484380</td>\n",
       "      <td>484380</td>\n",
       "      <td>484380</td>\n",
       "      <td>484380.00</td>\n",
       "      <td>484380.00</td>\n",
       "      <td>484380.00</td>\n",
       "      <td>484380.00</td>\n",
       "    </tr>\n",
       "    <tr>\n",
       "      <th>mean</th>\n",
       "      <td>2023-09-24 00:00:00</td>\n",
       "      <td>2021-10-31 07:28:00.000000768</td>\n",
       "      <td>2021-11-29 13:51:59.999999488</td>\n",
       "      <td>2021.40</td>\n",
       "      <td>6.20</td>\n",
       "      <td>9.55</td>\n",
       "      <td>10.32</td>\n",
       "    </tr>\n",
       "    <tr>\n",
       "      <th>min</th>\n",
       "      <td>2023-09-24 00:00:00</td>\n",
       "      <td>2020-01-01 00:00:00</td>\n",
       "      <td>2020-01-31 00:00:00</td>\n",
       "      <td>2020.00</td>\n",
       "      <td>1.00</td>\n",
       "      <td>0.00</td>\n",
       "      <td>0.00</td>\n",
       "    </tr>\n",
       "    <tr>\n",
       "      <th>25%</th>\n",
       "      <td>2023-09-24 00:00:00</td>\n",
       "      <td>2020-12-01 00:00:00</td>\n",
       "      <td>2020-12-31 00:00:00</td>\n",
       "      <td>2020.00</td>\n",
       "      <td>3.00</td>\n",
       "      <td>0.00</td>\n",
       "      <td>0.00</td>\n",
       "    </tr>\n",
       "    <tr>\n",
       "      <th>50%</th>\n",
       "      <td>2023-09-24 00:00:00</td>\n",
       "      <td>2021-11-01 00:00:00</td>\n",
       "      <td>2021-11-30 00:00:00</td>\n",
       "      <td>2021.00</td>\n",
       "      <td>6.00</td>\n",
       "      <td>0.00</td>\n",
       "      <td>0.00</td>\n",
       "    </tr>\n",
       "    <tr>\n",
       "      <th>75%</th>\n",
       "      <td>2023-09-24 00:00:00</td>\n",
       "      <td>2022-10-01 00:00:00</td>\n",
       "      <td>2022-10-31 00:00:00</td>\n",
       "      <td>2022.00</td>\n",
       "      <td>9.00</td>\n",
       "      <td>6.00</td>\n",
       "      <td>6.00</td>\n",
       "    </tr>\n",
       "    <tr>\n",
       "      <th>max</th>\n",
       "      <td>2023-09-24 00:00:00</td>\n",
       "      <td>2023-09-01 00:00:00</td>\n",
       "      <td>2023-09-23 00:00:00</td>\n",
       "      <td>2023.00</td>\n",
       "      <td>12.00</td>\n",
       "      <td>5094.00</td>\n",
       "      <td>5094.00</td>\n",
       "    </tr>\n",
       "    <tr>\n",
       "      <th>std</th>\n",
       "      <td>NaN</td>\n",
       "      <td>NaN</td>\n",
       "      <td>NaN</td>\n",
       "      <td>1.08</td>\n",
       "      <td>3.35</td>\n",
       "      <td>51.01</td>\n",
       "      <td>53.97</td>\n",
       "    </tr>\n",
       "  </tbody>\n",
       "</table>\n",
       "</div>"
      ],
      "text/plain": [
       "                Data As Of                     Start Date  \\\n",
       "count               484380                         484380   \n",
       "mean   2023-09-24 00:00:00  2021-10-31 07:28:00.000000768   \n",
       "min    2023-09-24 00:00:00            2020-01-01 00:00:00   \n",
       "25%    2023-09-24 00:00:00            2020-12-01 00:00:00   \n",
       "50%    2023-09-24 00:00:00            2021-11-01 00:00:00   \n",
       "75%    2023-09-24 00:00:00            2022-10-01 00:00:00   \n",
       "max    2023-09-24 00:00:00            2023-09-01 00:00:00   \n",
       "std                    NaN                            NaN   \n",
       "\n",
       "                            End Date      Year     Month  COVID-19 Deaths  \\\n",
       "count                         484380 484380.00 484380.00        484380.00   \n",
       "mean   2021-11-29 13:51:59.999999488   2021.40      6.20             9.55   \n",
       "min              2020-01-31 00:00:00   2020.00      1.00             0.00   \n",
       "25%              2020-12-31 00:00:00   2020.00      3.00             0.00   \n",
       "50%              2021-11-30 00:00:00   2021.00      6.00             0.00   \n",
       "75%              2022-10-31 00:00:00   2022.00      9.00             6.00   \n",
       "max              2023-09-23 00:00:00   2023.00     12.00          5094.00   \n",
       "std                              NaN      1.08      3.35            51.01   \n",
       "\n",
       "       Number of Mentions  \n",
       "count           484380.00  \n",
       "mean                10.32  \n",
       "min                  0.00  \n",
       "25%                  0.00  \n",
       "50%                  0.00  \n",
       "75%                  6.00  \n",
       "max               5094.00  \n",
       "std                 53.97  "
      ]
     },
     "execution_count": 123,
     "metadata": {},
     "output_type": "execute_result"
    }
   ],
   "source": [
    "df_cleaned.describe()"
   ]
  },
  {
   "cell_type": "code",
   "execution_count": 125,
   "id": "d938f3fc-6bc5-426f-8b2c-75b4bbcc5bec",
   "metadata": {},
   "outputs": [
    {
     "data": {
      "text/plain": [
       "State\n",
       "Alabama                 9315\n",
       "Alaska                  9315\n",
       "Nevada                  9315\n",
       "New Hampshire           9315\n",
       "New Jersey              9315\n",
       "New Mexico              9315\n",
       "New York                9315\n",
       "New York City           9315\n",
       "North Carolina          9315\n",
       "North Dakota            9315\n",
       "Ohio                    9315\n",
       "Oklahoma                9315\n",
       "Oregon                  9315\n",
       "Pennsylvania            9315\n",
       "Rhode Island            9315\n",
       "South Carolina          9315\n",
       "South Dakota            9315\n",
       "Tennessee               9315\n",
       "Texas                   9315\n",
       "Utah                    9315\n",
       "Vermont                 9315\n",
       "Virginia                9315\n",
       "Washington              9315\n",
       "West Virginia           9315\n",
       "Wisconsin               9315\n",
       "Nebraska                9315\n",
       "Montana                 9315\n",
       "Missouri                9315\n",
       "Idaho                   9315\n",
       "Arizona                 9315\n",
       "Arkansas                9315\n",
       "California              9315\n",
       "Colorado                9315\n",
       "Connecticut             9315\n",
       "Delaware                9315\n",
       "District of Columbia    9315\n",
       "Florida                 9315\n",
       "Georgia                 9315\n",
       "Hawaii                  9315\n",
       "Illinois                9315\n",
       "Mississippi             9315\n",
       "Indiana                 9315\n",
       "Iowa                    9315\n",
       "Kansas                  9315\n",
       "Kentucky                9315\n",
       "Louisiana               9315\n",
       "Maine                   9315\n",
       "Maryland                9315\n",
       "Massachusetts           9315\n",
       "Michigan                9315\n",
       "Minnesota               9315\n",
       "Wyoming                 9315\n",
       "Name: count, dtype: int64"
      ]
     },
     "execution_count": 125,
     "metadata": {},
     "output_type": "execute_result"
    }
   ],
   "source": [
    "# State frequency:\n",
    "df_cleaned['State'].value_counts(dropna = False)"
   ]
  },
  {
   "cell_type": "markdown",
   "id": "b09396c9-8bac-4cb8-be5e-ef9a7f32bb0b",
   "metadata": {},
   "source": [
    "### Check for duplicates"
   ]
  },
  {
   "cell_type": "code",
   "execution_count": 128,
   "id": "91a6d8f1-4695-419a-9d23-fb3c74605da0",
   "metadata": {},
   "outputs": [
    {
     "data": {
      "text/plain": [
       "0"
      ]
     },
     "execution_count": 128,
     "metadata": {},
     "output_type": "execute_result"
    }
   ],
   "source": [
    "# Check for duplicate rows in the dataset\n",
    "df_cleaned.duplicated().sum()"
   ]
  },
  {
   "cell_type": "code",
   "execution_count": 130,
   "id": "f9bdbe7a-1fef-4665-b05c-b7ab8332b005",
   "metadata": {},
   "outputs": [
    {
     "name": "stdout",
     "output_type": "stream",
     "text": [
      "<class 'pandas.core.frame.DataFrame'>\n",
      "Index: 484380 entries, 72450 to 610604\n",
      "Data columns (total 13 columns):\n",
      " #   Column              Non-Null Count   Dtype         \n",
      "---  ------              --------------   -----         \n",
      " 0   Data As Of          484380 non-null  datetime64[ns]\n",
      " 1   Start Date          484380 non-null  datetime64[ns]\n",
      " 2   End Date            484380 non-null  datetime64[ns]\n",
      " 3   Year                484380 non-null  float64       \n",
      " 4   Month               484380 non-null  float64       \n",
      " 5   State               484380 non-null  category      \n",
      " 6   Condition Group     484380 non-null  category      \n",
      " 7   Condition           484380 non-null  category      \n",
      " 8   ICD10_codes         484380 non-null  category      \n",
      " 9   Age Group           484380 non-null  category      \n",
      " 10  COVID-19 Deaths     484380 non-null  float64       \n",
      " 11  Number of Mentions  484380 non-null  float64       \n",
      " 12  Flag                150914 non-null  category      \n",
      "dtypes: category(6), datetime64[ns](3), float64(4)\n",
      "memory usage: 32.3+ MB\n"
     ]
    }
   ],
   "source": [
    "df_cleaned.info()"
   ]
  },
  {
   "cell_type": "code",
   "execution_count": 132,
   "id": "a797f606-2079-406a-a464-b99dd8979339",
   "metadata": {},
   "outputs": [],
   "source": [
    "# Compressing datatypes for saving space:\n",
    "\n",
    "df_cleaned['Year'] = df_cleaned['Year'].astype('float32')\n",
    "df_cleaned['Month'] = df_cleaned['Month'].astype('float32')\n",
    "df_cleaned['COVID-19 Deaths'] = df_cleaned['COVID-19 Deaths'].astype('float32')\n",
    "df_cleaned['Number of Mentions'] = df_cleaned['Number of Mentions'].astype('float32')"
   ]
  },
  {
   "cell_type": "code",
   "execution_count": 134,
   "id": "5e1df861-fd18-4214-b931-8c0db4df5a49",
   "metadata": {},
   "outputs": [
    {
     "name": "stdout",
     "output_type": "stream",
     "text": [
      "<class 'pandas.core.frame.DataFrame'>\n",
      "Index: 484380 entries, 72450 to 610604\n",
      "Data columns (total 13 columns):\n",
      " #   Column              Non-Null Count   Dtype         \n",
      "---  ------              --------------   -----         \n",
      " 0   Data As Of          484380 non-null  datetime64[ns]\n",
      " 1   Start Date          484380 non-null  datetime64[ns]\n",
      " 2   End Date            484380 non-null  datetime64[ns]\n",
      " 3   Year                484380 non-null  float32       \n",
      " 4   Month               484380 non-null  float32       \n",
      " 5   State               484380 non-null  category      \n",
      " 6   Condition Group     484380 non-null  category      \n",
      " 7   Condition           484380 non-null  category      \n",
      " 8   ICD10_codes         484380 non-null  category      \n",
      " 9   Age Group           484380 non-null  category      \n",
      " 10  COVID-19 Deaths     484380 non-null  float32       \n",
      " 11  Number of Mentions  484380 non-null  float32       \n",
      " 12  Flag                150914 non-null  category      \n",
      "dtypes: category(6), datetime64[ns](3), float32(4)\n",
      "memory usage: 24.9+ MB\n"
     ]
    }
   ],
   "source": [
    "df_cleaned.info()"
   ]
  },
  {
   "cell_type": "code",
   "execution_count": 136,
   "id": "032e98b5-a94a-4e88-923d-543f51b4508a",
   "metadata": {},
   "outputs": [],
   "source": [
    "#Saving cleaned data for further analysis:\n",
    "# Exporting \"df_covid_final_cleaned\" dataframe to CSV\n",
    "df_cleaned.to_csv(os.path.join(path, '02 Data', 'Prepared Data', 'Covid_clean.csv'), index=False)"
   ]
  },
  {
   "cell_type": "code",
   "execution_count": null,
   "id": "45b1a97b-7c75-44b1-b7b1-9f7dc86e8094",
   "metadata": {},
   "outputs": [],
   "source": []
  }
 ],
 "metadata": {
  "kernelspec": {
   "display_name": "Python 3 (ipykernel)",
   "language": "python",
   "name": "python3"
  },
  "language_info": {
   "codemirror_mode": {
    "name": "ipython",
    "version": 3
   },
   "file_extension": ".py",
   "mimetype": "text/x-python",
   "name": "python",
   "nbconvert_exporter": "python",
   "pygments_lexer": "ipython3",
   "version": "3.12.4"
  }
 },
 "nbformat": 4,
 "nbformat_minor": 5
}
